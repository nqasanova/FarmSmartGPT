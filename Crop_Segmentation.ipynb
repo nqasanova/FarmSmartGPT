{
  "nbformat": 4,
  "nbformat_minor": 0,
  "metadata": {
    "colab": {
      "provenance": []
    },
    "kernelspec": {
      "name": "python3",
      "display_name": "Python 3"
    },
    "language_info": {
      "name": "python"
    }
  },
  "cells": [
    {
      "cell_type": "markdown",
      "source": [
        "### Reading Training Data"
      ],
      "metadata": {
        "id": "2QtT8Y6595yM"
      }
    },
    {
      "cell_type": "markdown",
      "source": [
        "##### Authorize Earth Engine"
      ],
      "metadata": {
        "id": "edHPVJTn-duu"
      }
    },
    {
      "cell_type": "code",
      "source": [
        "import ee\n",
        "\n",
        "ee.Authenticate()"
      ],
      "metadata": {
        "id": "eJ-aj9Qm-WZo"
      },
      "execution_count": 1,
      "outputs": []
    },
    {
      "cell_type": "code",
      "source": [
        "!earthengine set_project warm-dynamics-433216-k3"
      ],
      "metadata": {
        "colab": {
          "base_uri": "https://localhost:8080/"
        },
        "id": "gChM-xbsr9FF",
        "outputId": "dffb0c4a-de32-4ce9-c628-021f777f9d15"
      },
      "execution_count": 2,
      "outputs": [
        {
          "output_type": "stream",
          "name": "stdout",
          "text": [
            "Successfully saved project id\n"
          ]
        }
      ]
    },
    {
      "cell_type": "markdown",
      "source": [
        "#### Get masks from all over the world"
      ],
      "metadata": {
        "id": "h3C_B3GwCnbN"
      }
    },
    {
      "cell_type": "code",
      "source": [
        "import ee\n",
        "import folium\n",
        "\n",
        "# Define a function to add Earth Engine layers to a folium map\n",
        "def add_ee_layer(self, ee_image_object, vis_params, name):\n",
        "    \"\"\"Adds Earth Engine image tiles to a folium map.\"\"\"\n",
        "    map_id_dict = ee.Image(ee_image_object).getMapId(vis_params)\n",
        "    folium.raster_layers.TileLayer(\n",
        "        tiles=map_id_dict['tile_fetcher'].url_format,\n",
        "        attr='Google Earth Engine',\n",
        "        name=name,\n",
        "        overlay=True,\n",
        "        control=True\n",
        "    ).add_to(self)\n",
        "\n",
        "# Add the custom method to folium.Map\n",
        "folium.Map.add_ee_layer = add_ee_layer\n",
        "\n",
        "# Initialize the Earth Engine API\n",
        "ee.Initialize()\n",
        "\n",
        "# Load the dataset\n",
        "dataset = ee.Image('USGS/GFSAD1000_V1')\n",
        "crop_mask = dataset.select('landcover')\n",
        "\n",
        "# Define visualization parameters\n",
        "crop_mask_vis = {\n",
        "    'min': 0,\n",
        "    'max': 5,\n",
        "    'palette': ['black', 'orange', 'brown', '02a50f', 'green', 'yellow'],\n",
        "}\n",
        "\n",
        "# Create a map centered on the desired coordinates\n",
        "map = folium.Map(location=[13.72, -17.22], zoom_start=2)\n",
        "\n",
        "# Add the crop mask layer to the map\n",
        "map.add_ee_layer(crop_mask, crop_mask_vis, 'Crop Mask')\n",
        "\n",
        "# Add layer control to toggle layers on and off\n",
        "map.add_child(folium.LayerControl())\n",
        "\n",
        "# Display the map\n",
        "map"
      ],
      "metadata": {
        "colab": {
          "base_uri": "https://localhost:8080/",
          "height": 865
        },
        "id": "0F7ht3-F98kS",
        "outputId": "56f4f6a1-7d3e-4472-9578-70b9e75dd827"
      },
      "execution_count": 3,
      "outputs": [
        {
          "output_type": "execute_result",
          "data": {
            "text/plain": [
              "<folium.folium.Map at 0x7ab456d9bf10>"
            ],
            "text/html": [
              "<div style=\"width:100%;\"><div style=\"position:relative;width:100%;height:0;padding-bottom:60%;\"><span style=\"color:#565656\">Make this Notebook Trusted to load map: File -> Trust Notebook</span><iframe srcdoc=\"&lt;!DOCTYPE html&gt;\n",
              "&lt;html&gt;\n",
              "&lt;head&gt;\n",
              "    \n",
              "    &lt;meta http-equiv=&quot;content-type&quot; content=&quot;text/html; charset=UTF-8&quot; /&gt;\n",
              "    \n",
              "        &lt;script&gt;\n",
              "            L_NO_TOUCH = false;\n",
              "            L_DISABLE_3D = false;\n",
              "        &lt;/script&gt;\n",
              "    \n",
              "    &lt;style&gt;html, body {width: 100%;height: 100%;margin: 0;padding: 0;}&lt;/style&gt;\n",
              "    &lt;style&gt;#map {position:absolute;top:0;bottom:0;right:0;left:0;}&lt;/style&gt;\n",
              "    &lt;script src=&quot;https://cdn.jsdelivr.net/npm/leaflet@1.9.3/dist/leaflet.js&quot;&gt;&lt;/script&gt;\n",
              "    &lt;script src=&quot;https://code.jquery.com/jquery-3.7.1.min.js&quot;&gt;&lt;/script&gt;\n",
              "    &lt;script src=&quot;https://cdn.jsdelivr.net/npm/bootstrap@5.2.2/dist/js/bootstrap.bundle.min.js&quot;&gt;&lt;/script&gt;\n",
              "    &lt;script src=&quot;https://cdnjs.cloudflare.com/ajax/libs/Leaflet.awesome-markers/2.0.2/leaflet.awesome-markers.js&quot;&gt;&lt;/script&gt;\n",
              "    &lt;link rel=&quot;stylesheet&quot; href=&quot;https://cdn.jsdelivr.net/npm/leaflet@1.9.3/dist/leaflet.css&quot;/&gt;\n",
              "    &lt;link rel=&quot;stylesheet&quot; href=&quot;https://cdn.jsdelivr.net/npm/bootstrap@5.2.2/dist/css/bootstrap.min.css&quot;/&gt;\n",
              "    &lt;link rel=&quot;stylesheet&quot; href=&quot;https://netdna.bootstrapcdn.com/bootstrap/3.0.0/css/bootstrap-glyphicons.css&quot;/&gt;\n",
              "    &lt;link rel=&quot;stylesheet&quot; href=&quot;https://cdn.jsdelivr.net/npm/@fortawesome/fontawesome-free@6.2.0/css/all.min.css&quot;/&gt;\n",
              "    &lt;link rel=&quot;stylesheet&quot; href=&quot;https://cdnjs.cloudflare.com/ajax/libs/Leaflet.awesome-markers/2.0.2/leaflet.awesome-markers.css&quot;/&gt;\n",
              "    &lt;link rel=&quot;stylesheet&quot; href=&quot;https://cdn.jsdelivr.net/gh/python-visualization/folium/folium/templates/leaflet.awesome.rotate.min.css&quot;/&gt;\n",
              "    \n",
              "            &lt;meta name=&quot;viewport&quot; content=&quot;width=device-width,\n",
              "                initial-scale=1.0, maximum-scale=1.0, user-scalable=no&quot; /&gt;\n",
              "            &lt;style&gt;\n",
              "                #map_7f5aa8e1d6a49d48c89d784bf847c683 {\n",
              "                    position: relative;\n",
              "                    width: 100.0%;\n",
              "                    height: 100.0%;\n",
              "                    left: 0.0%;\n",
              "                    top: 0.0%;\n",
              "                }\n",
              "                .leaflet-container { font-size: 1rem; }\n",
              "            &lt;/style&gt;\n",
              "        \n",
              "&lt;/head&gt;\n",
              "&lt;body&gt;\n",
              "    \n",
              "    \n",
              "            &lt;div class=&quot;folium-map&quot; id=&quot;map_7f5aa8e1d6a49d48c89d784bf847c683&quot; &gt;&lt;/div&gt;\n",
              "        \n",
              "&lt;/body&gt;\n",
              "&lt;script&gt;\n",
              "    \n",
              "    \n",
              "            var map_7f5aa8e1d6a49d48c89d784bf847c683 = L.map(\n",
              "                &quot;map_7f5aa8e1d6a49d48c89d784bf847c683&quot;,\n",
              "                {\n",
              "                    center: [13.72, -17.22],\n",
              "                    crs: L.CRS.EPSG3857,\n",
              "                    zoom: 2,\n",
              "                    zoomControl: true,\n",
              "                    preferCanvas: false,\n",
              "                }\n",
              "            );\n",
              "\n",
              "            \n",
              "\n",
              "        \n",
              "    \n",
              "            var tile_layer_2d5ba56798f7b46843f09ea8906bd72e = L.tileLayer(\n",
              "                &quot;https://tile.openstreetmap.org/{z}/{x}/{y}.png&quot;,\n",
              "                {&quot;attribution&quot;: &quot;\\u0026copy; \\u003ca href=\\&quot;https://www.openstreetmap.org/copyright\\&quot;\\u003eOpenStreetMap\\u003c/a\\u003e contributors&quot;, &quot;detectRetina&quot;: false, &quot;maxNativeZoom&quot;: 19, &quot;maxZoom&quot;: 19, &quot;minZoom&quot;: 0, &quot;noWrap&quot;: false, &quot;opacity&quot;: 1, &quot;subdomains&quot;: &quot;abc&quot;, &quot;tms&quot;: false}\n",
              "            );\n",
              "        \n",
              "    \n",
              "            tile_layer_2d5ba56798f7b46843f09ea8906bd72e.addTo(map_7f5aa8e1d6a49d48c89d784bf847c683);\n",
              "        \n",
              "    \n",
              "            var tile_layer_e90c51f64a206b3225b17221336f723c = L.tileLayer(\n",
              "                &quot;https://earthengine.googleapis.com/v1/projects/warm-dynamics-433216-k3/maps/c69d275a350c4ad90d64b043cbc91661-c94de72c2a1e65459ed08b56e2304030/tiles/{z}/{x}/{y}&quot;,\n",
              "                {&quot;attribution&quot;: &quot;Google Earth Engine&quot;, &quot;detectRetina&quot;: false, &quot;maxZoom&quot;: 18, &quot;minZoom&quot;: 0, &quot;noWrap&quot;: false, &quot;opacity&quot;: 1, &quot;subdomains&quot;: &quot;abc&quot;, &quot;tms&quot;: false}\n",
              "            );\n",
              "        \n",
              "    \n",
              "            tile_layer_e90c51f64a206b3225b17221336f723c.addTo(map_7f5aa8e1d6a49d48c89d784bf847c683);\n",
              "        \n",
              "    \n",
              "            var layer_control_99affba4d553445dd58856165ce8b3c8_layers = {\n",
              "                base_layers : {\n",
              "                    &quot;openstreetmap&quot; : tile_layer_2d5ba56798f7b46843f09ea8906bd72e,\n",
              "                },\n",
              "                overlays :  {\n",
              "                    &quot;Crop Mask&quot; : tile_layer_e90c51f64a206b3225b17221336f723c,\n",
              "                },\n",
              "            };\n",
              "            let layer_control_99affba4d553445dd58856165ce8b3c8 = L.control.layers(\n",
              "                layer_control_99affba4d553445dd58856165ce8b3c8_layers.base_layers,\n",
              "                layer_control_99affba4d553445dd58856165ce8b3c8_layers.overlays,\n",
              "                {&quot;autoZIndex&quot;: true, &quot;collapsed&quot;: true, &quot;position&quot;: &quot;topright&quot;}\n",
              "            ).addTo(map_7f5aa8e1d6a49d48c89d784bf847c683);\n",
              "\n",
              "        \n",
              "&lt;/script&gt;\n",
              "&lt;/html&gt;\" style=\"position:absolute;width:100%;height:100%;left:0;top:0;border:none !important;\" allowfullscreen webkitallowfullscreen mozallowfullscreen></iframe></div></div>"
            ]
          },
          "metadata": {},
          "execution_count": 3
        }
      ]
    },
    {
      "cell_type": "markdown",
      "source": [
        "### Reading Test Data"
      ],
      "metadata": {
        "id": "LXdcUP3C915G"
      }
    },
    {
      "cell_type": "code",
      "source": [
        "from google.colab import drive\n",
        "drive.mount('/content/drive')"
      ],
      "metadata": {
        "colab": {
          "base_uri": "https://localhost:8080/"
        },
        "id": "gshGOjZLOUWB",
        "outputId": "40d2b1fa-4f47-4a96-83e8-ee2c49442457"
      },
      "execution_count": 4,
      "outputs": [
        {
          "output_type": "stream",
          "name": "stdout",
          "text": [
            "Drive already mounted at /content/drive; to attempt to forcibly remount, call drive.mount(\"/content/drive\", force_remount=True).\n"
          ]
        }
      ]
    },
    {
      "cell_type": "code",
      "source": [
        "!pip install rasterio\n",
        "!pip install geopandas"
      ],
      "metadata": {
        "colab": {
          "base_uri": "https://localhost:8080/"
        },
        "id": "2PQdRcqoc15n",
        "outputId": "750abb84-4a23-4296-dc41-f4bf49f48b3f"
      },
      "execution_count": 5,
      "outputs": [
        {
          "output_type": "stream",
          "name": "stdout",
          "text": [
            "Collecting rasterio\n",
            "  Downloading rasterio-1.3.11-cp310-cp310-manylinux_2_17_x86_64.manylinux2014_x86_64.whl.metadata (14 kB)\n",
            "Collecting affine (from rasterio)\n",
            "  Downloading affine-2.4.0-py3-none-any.whl.metadata (4.0 kB)\n",
            "Requirement already satisfied: attrs in /usr/local/lib/python3.10/dist-packages (from rasterio) (24.2.0)\n",
            "Requirement already satisfied: certifi in /usr/local/lib/python3.10/dist-packages (from rasterio) (2024.8.30)\n",
            "Requirement already satisfied: click>=4.0 in /usr/local/lib/python3.10/dist-packages (from rasterio) (8.1.7)\n",
            "Requirement already satisfied: cligj>=0.5 in /usr/local/lib/python3.10/dist-packages (from rasterio) (0.7.2)\n",
            "Requirement already satisfied: numpy in /usr/local/lib/python3.10/dist-packages (from rasterio) (1.26.4)\n",
            "Collecting snuggs>=1.4.1 (from rasterio)\n",
            "  Downloading snuggs-1.4.7-py3-none-any.whl.metadata (3.4 kB)\n",
            "Requirement already satisfied: click-plugins in /usr/local/lib/python3.10/dist-packages (from rasterio) (1.1.1)\n",
            "Requirement already satisfied: setuptools in /usr/local/lib/python3.10/dist-packages (from rasterio) (71.0.4)\n",
            "Requirement already satisfied: pyparsing>=2.1.6 in /usr/local/lib/python3.10/dist-packages (from snuggs>=1.4.1->rasterio) (3.1.4)\n",
            "Downloading rasterio-1.3.11-cp310-cp310-manylinux_2_17_x86_64.manylinux2014_x86_64.whl (21.7 MB)\n",
            "\u001b[2K   \u001b[90m━━━━━━━━━━━━━━━━━━━━━━━━━━━━━━━━━━━━━━━━\u001b[0m \u001b[32m21.7/21.7 MB\u001b[0m \u001b[31m50.1 MB/s\u001b[0m eta \u001b[36m0:00:00\u001b[0m\n",
            "\u001b[?25hDownloading snuggs-1.4.7-py3-none-any.whl (5.4 kB)\n",
            "Downloading affine-2.4.0-py3-none-any.whl (15 kB)\n",
            "Installing collected packages: snuggs, affine, rasterio\n",
            "Successfully installed affine-2.4.0 rasterio-1.3.11 snuggs-1.4.7\n",
            "Requirement already satisfied: geopandas in /usr/local/lib/python3.10/dist-packages (0.14.4)\n",
            "Requirement already satisfied: fiona>=1.8.21 in /usr/local/lib/python3.10/dist-packages (from geopandas) (1.10.0)\n",
            "Requirement already satisfied: numpy>=1.22 in /usr/local/lib/python3.10/dist-packages (from geopandas) (1.26.4)\n",
            "Requirement already satisfied: packaging in /usr/local/lib/python3.10/dist-packages (from geopandas) (24.1)\n",
            "Requirement already satisfied: pandas>=1.4.0 in /usr/local/lib/python3.10/dist-packages (from geopandas) (2.1.4)\n",
            "Requirement already satisfied: pyproj>=3.3.0 in /usr/local/lib/python3.10/dist-packages (from geopandas) (3.6.1)\n",
            "Requirement already satisfied: shapely>=1.8.0 in /usr/local/lib/python3.10/dist-packages (from geopandas) (2.0.6)\n",
            "Requirement already satisfied: attrs>=19.2.0 in /usr/local/lib/python3.10/dist-packages (from fiona>=1.8.21->geopandas) (24.2.0)\n",
            "Requirement already satisfied: certifi in /usr/local/lib/python3.10/dist-packages (from fiona>=1.8.21->geopandas) (2024.8.30)\n",
            "Requirement already satisfied: click~=8.0 in /usr/local/lib/python3.10/dist-packages (from fiona>=1.8.21->geopandas) (8.1.7)\n",
            "Requirement already satisfied: click-plugins>=1.0 in /usr/local/lib/python3.10/dist-packages (from fiona>=1.8.21->geopandas) (1.1.1)\n",
            "Requirement already satisfied: cligj>=0.5 in /usr/local/lib/python3.10/dist-packages (from fiona>=1.8.21->geopandas) (0.7.2)\n",
            "Requirement already satisfied: python-dateutil>=2.8.2 in /usr/local/lib/python3.10/dist-packages (from pandas>=1.4.0->geopandas) (2.8.2)\n",
            "Requirement already satisfied: pytz>=2020.1 in /usr/local/lib/python3.10/dist-packages (from pandas>=1.4.0->geopandas) (2024.2)\n",
            "Requirement already satisfied: tzdata>=2022.1 in /usr/local/lib/python3.10/dist-packages (from pandas>=1.4.0->geopandas) (2024.1)\n",
            "Requirement already satisfied: six>=1.5 in /usr/local/lib/python3.10/dist-packages (from python-dateutil>=2.8.2->pandas>=1.4.0->geopandas) (1.16.0)\n"
          ]
        }
      ]
    },
    {
      "cell_type": "markdown",
      "source": [
        "#### How masks look over Azerbaijan (2020-06-08)"
      ],
      "metadata": {
        "id": "4hC-VrBiD70R"
      }
    },
    {
      "cell_type": "code",
      "source": [
        "import rasterio\n",
        "\n",
        "# Path to your .TIF file\n",
        "tif_paths = [\"/content/drive/MyDrive/Colab Notebooks/EOC_Data/Agriculture/DIM_SPOT6_PMS_202006080723476_ORT_AKWOI-00082830/PROD_SPOT6_001/VOL_SPOT6_001_A/IMG_SPOT6_PMS_001_A/IMG_SP~1.TIF\",\n",
        "             \"/content/drive/MyDrive/Colab Notebooks/EOC_Data/Agriculture/DIM_SPOT6_PMS_202006080723476_ORT_AKWOI-00082830/PROD_SPOT6_001/VOL_SPOT6_001_A/IMG_SPOT6_PMS_001_A/IMG_SP~2.TIF\",\n",
        "             \"/content/drive/MyDrive/Colab Notebooks/EOC_Data/Agriculture/DIM_SPOT6_PMS_202006080723476_ORT_AKWOI-00082830/PROD_SPOT6_001/VOL_SPOT6_001_A/IMG_SPOT6_PMS_001_A/IMG_SP~3.TIF\",\n",
        "             \"/content/drive/MyDrive/Colab Notebooks/EOC_Data/Agriculture/DIM_SPOT6_PMS_202006080723476_ORT_AKWOI-00082830/PROD_SPOT6_001/VOL_SPOT6_001_A/IMG_SPOT6_PMS_001_A/IMG_SP~4.TIF\"]\n",
        "\n",
        "# Open the .TIF file\n",
        "for tif_path in tif_paths:\n",
        "  with rasterio.open(tif_path) as dataset:\n",
        "      # Get the coordinates of the upper-left corner\n",
        "      ul_x, ul_y = dataset.transform * (0, 0)\n",
        "      print(f\"Upper-left corner coordinates: ({ul_x}, {ul_y})\")\n",
        "\n",
        "      # Get the coordinates of the lower-right corner\n",
        "      lr_x, lr_y = dataset.transform * (dataset.width, dataset.height)\n",
        "      print(f\"Lower-right corner coordinates: ({lr_x}, {lr_y})\")\n",
        "\n",
        "      # Print the bounds of the image\n",
        "      print(f\"Bounds of the image: {dataset.bounds}\")\n",
        "\n",
        "      # Extracting the coordinates of each corner\n",
        "      corners = {\n",
        "          \"upper_left\": (ul_x, ul_y),\n",
        "          \"lower_right\": (lr_x, lr_y),\n",
        "          \"upper_right\": (dataset.bounds.right, dataset.bounds.top),\n",
        "          \"lower_left\": (dataset.bounds.left, dataset.bounds.bottom)\n",
        "      }\n",
        "\n",
        "      for corner, coords in corners.items():\n",
        "          print(f\"{corner}: {coords}\")"
      ],
      "metadata": {
        "id": "V09yHnA_OVzB",
        "colab": {
          "base_uri": "https://localhost:8080/"
        },
        "collapsed": true,
        "outputId": "5c17939c-567b-41a3-aa86-c358d9ea8084"
      },
      "execution_count": 6,
      "outputs": [
        {
          "output_type": "stream",
          "name": "stdout",
          "text": [
            "Upper-left corner coordinates: (48.25284722222222, 40.06994444444445)\n",
            "Lower-right corner coordinates: (48.480402777777776, 39.8423888888889)\n",
            "Bounds of the image: BoundingBox(left=48.25284722222222, bottom=39.8423888888889, right=48.480402777777776, top=40.06994444444445)\n",
            "upper_left: (48.25284722222222, 40.06994444444445)\n",
            "lower_right: (48.480402777777776, 39.8423888888889)\n",
            "upper_right: (48.480402777777776, 40.06994444444445)\n",
            "lower_left: (48.25284722222222, 39.8423888888889)\n",
            "Upper-left corner coordinates: (48.48040277777778, 40.06994444444445)\n",
            "Lower-right corner coordinates: (48.66894444444445, 39.8423888888889)\n",
            "Bounds of the image: BoundingBox(left=48.48040277777778, bottom=39.8423888888889, right=48.66894444444445, top=40.06994444444445)\n",
            "upper_left: (48.48040277777778, 40.06994444444445)\n",
            "lower_right: (48.66894444444445, 39.8423888888889)\n",
            "upper_right: (48.66894444444445, 40.06994444444445)\n",
            "lower_left: (48.48040277777778, 39.8423888888889)\n",
            "Upper-left corner coordinates: (48.25284722222222, 39.84238888888889)\n",
            "Lower-right corner coordinates: (48.480402777777776, 39.80480555555556)\n",
            "Bounds of the image: BoundingBox(left=48.25284722222222, bottom=39.80480555555556, right=48.480402777777776, top=39.84238888888889)\n",
            "upper_left: (48.25284722222222, 39.84238888888889)\n",
            "lower_right: (48.480402777777776, 39.80480555555556)\n",
            "upper_right: (48.480402777777776, 39.84238888888889)\n",
            "lower_left: (48.25284722222222, 39.80480555555556)\n",
            "Upper-left corner coordinates: (48.48040277777778, 39.84238888888889)\n",
            "Lower-right corner coordinates: (48.66894444444445, 39.80480555555556)\n",
            "Bounds of the image: BoundingBox(left=48.48040277777778, bottom=39.80480555555556, right=48.66894444444445, top=39.84238888888889)\n",
            "upper_left: (48.48040277777778, 39.84238888888889)\n",
            "lower_right: (48.66894444444445, 39.80480555555556)\n",
            "upper_right: (48.66894444444445, 39.84238888888889)\n",
            "lower_left: (48.48040277777778, 39.80480555555556)\n"
          ]
        }
      ]
    },
    {
      "cell_type": "markdown",
      "source": [
        "Finding borders:"
      ],
      "metadata": {
        "id": "VtOv4ALAAuhF"
      }
    },
    {
      "cell_type": "code",
      "source": [
        "# Coordinates from the four files\n",
        "coordinates = {\n",
        "    \"upper_left_1\": (48.25284722222222, 40.06994444444445),\n",
        "    \"lower_right_1\": (48.480402777777776, 39.8423888888889),\n",
        "    \"upper_left_2\": (48.48040277777778, 40.06994444444445),\n",
        "    \"lower_right_2\": (48.66894444444445, 39.8423888888889),\n",
        "    \"upper_left_3\": (48.25284722222222, 39.84238888888889),\n",
        "    \"lower_right_3\": (48.480402777777776, 39.80480555555556),\n",
        "    \"upper_left_4\": (48.48040277777778, 39.84238888888889),\n",
        "    \"lower_right_4\": (48.66894444444445, 39.80480555555556)\n",
        "}\n",
        "\n",
        "# Calculating the combined bounding box\n",
        "min_longitude = min(coordinates[\"upper_left_1\"][0], coordinates[\"upper_left_3\"][0], coordinates[\"lower_right_1\"][0], coordinates[\"lower_right_3\"][0])\n",
        "max_longitude = max(coordinates[\"upper_left_2\"][0], coordinates[\"upper_left_4\"][0], coordinates[\"lower_right_2\"][0], coordinates[\"lower_right_4\"][0])\n",
        "min_latitude = min(coordinates[\"lower_right_1\"][1], coordinates[\"lower_right_2\"][1], coordinates[\"lower_right_3\"][1], coordinates[\"lower_right_4\"][1])\n",
        "max_latitude = max(coordinates[\"upper_left_1\"][1], coordinates[\"upper_left_2\"][1], coordinates[\"upper_left_3\"][1], coordinates[\"upper_left_4\"][1])\n",
        "\n",
        "combined_bbox = (min_longitude, min_latitude, max_longitude, max_latitude)\n",
        "print(f\"Combined Bounding Box: {combined_bbox}\")"
      ],
      "metadata": {
        "colab": {
          "base_uri": "https://localhost:8080/"
        },
        "id": "m2IsyPs7Avwx",
        "outputId": "c963cd27-ba34-4f98-ee80-9130b8997f22"
      },
      "execution_count": 7,
      "outputs": [
        {
          "output_type": "stream",
          "name": "stdout",
          "text": [
            "Combined Bounding Box: (48.25284722222222, 39.80480555555556, 48.66894444444445, 40.06994444444445)\n"
          ]
        }
      ]
    },
    {
      "cell_type": "code",
      "source": [
        "# Define the combined bounding box as an Earth Engine Geometry\n",
        "combined_bbox = ee.Geometry.Rectangle([48.25284722222222, 39.80480555555556, 48.66894444444445, 40.06994444444445])\n",
        "\n",
        "# Extract the crop mask for the entire bounding box\n",
        "crop_mask = ee.Image('USGS/GFSAD1000_V1').clip(combined_bbox)\n",
        "\n",
        "# Define visualization parameters if needed\n",
        "crop_mask_vis = {\n",
        "    'min': 0,\n",
        "    'max': 5,\n",
        "    'palette': ['black', 'orange', 'brown', '02a50f', 'green', 'yellow'],\n",
        "}\n",
        "\n",
        "# Display or export the combined data\n",
        "# Example: Displaying on a map (requires folium or other visualization tools)\n",
        "map = folium.Map(location=[(39.80480555555556 + 40.06994444444445) / 2, (48.25284722222222 + 48.66894444444445) / 2], zoom_start=12)\n",
        "map.add_ee_layer(crop_mask, crop_mask_vis, 'Combined Crop Mask')\n",
        "map.add_child(folium.LayerControl())\n",
        "display(map)"
      ],
      "metadata": {
        "colab": {
          "base_uri": "https://localhost:8080/",
          "height": 865
        },
        "id": "AhcyDhiyAwdZ",
        "outputId": "6b8326e4-e00e-49d1-a4f6-41a87a4b01fe"
      },
      "execution_count": 8,
      "outputs": [
        {
          "output_type": "display_data",
          "data": {
            "text/plain": [
              "<folium.folium.Map at 0x7ab456eeb580>"
            ],
            "text/html": [
              "<div style=\"width:100%;\"><div style=\"position:relative;width:100%;height:0;padding-bottom:60%;\"><span style=\"color:#565656\">Make this Notebook Trusted to load map: File -> Trust Notebook</span><iframe srcdoc=\"&lt;!DOCTYPE html&gt;\n",
              "&lt;html&gt;\n",
              "&lt;head&gt;\n",
              "    \n",
              "    &lt;meta http-equiv=&quot;content-type&quot; content=&quot;text/html; charset=UTF-8&quot; /&gt;\n",
              "    \n",
              "        &lt;script&gt;\n",
              "            L_NO_TOUCH = false;\n",
              "            L_DISABLE_3D = false;\n",
              "        &lt;/script&gt;\n",
              "    \n",
              "    &lt;style&gt;html, body {width: 100%;height: 100%;margin: 0;padding: 0;}&lt;/style&gt;\n",
              "    &lt;style&gt;#map {position:absolute;top:0;bottom:0;right:0;left:0;}&lt;/style&gt;\n",
              "    &lt;script src=&quot;https://cdn.jsdelivr.net/npm/leaflet@1.9.3/dist/leaflet.js&quot;&gt;&lt;/script&gt;\n",
              "    &lt;script src=&quot;https://code.jquery.com/jquery-3.7.1.min.js&quot;&gt;&lt;/script&gt;\n",
              "    &lt;script src=&quot;https://cdn.jsdelivr.net/npm/bootstrap@5.2.2/dist/js/bootstrap.bundle.min.js&quot;&gt;&lt;/script&gt;\n",
              "    &lt;script src=&quot;https://cdnjs.cloudflare.com/ajax/libs/Leaflet.awesome-markers/2.0.2/leaflet.awesome-markers.js&quot;&gt;&lt;/script&gt;\n",
              "    &lt;link rel=&quot;stylesheet&quot; href=&quot;https://cdn.jsdelivr.net/npm/leaflet@1.9.3/dist/leaflet.css&quot;/&gt;\n",
              "    &lt;link rel=&quot;stylesheet&quot; href=&quot;https://cdn.jsdelivr.net/npm/bootstrap@5.2.2/dist/css/bootstrap.min.css&quot;/&gt;\n",
              "    &lt;link rel=&quot;stylesheet&quot; href=&quot;https://netdna.bootstrapcdn.com/bootstrap/3.0.0/css/bootstrap-glyphicons.css&quot;/&gt;\n",
              "    &lt;link rel=&quot;stylesheet&quot; href=&quot;https://cdn.jsdelivr.net/npm/@fortawesome/fontawesome-free@6.2.0/css/all.min.css&quot;/&gt;\n",
              "    &lt;link rel=&quot;stylesheet&quot; href=&quot;https://cdnjs.cloudflare.com/ajax/libs/Leaflet.awesome-markers/2.0.2/leaflet.awesome-markers.css&quot;/&gt;\n",
              "    &lt;link rel=&quot;stylesheet&quot; href=&quot;https://cdn.jsdelivr.net/gh/python-visualization/folium/folium/templates/leaflet.awesome.rotate.min.css&quot;/&gt;\n",
              "    \n",
              "            &lt;meta name=&quot;viewport&quot; content=&quot;width=device-width,\n",
              "                initial-scale=1.0, maximum-scale=1.0, user-scalable=no&quot; /&gt;\n",
              "            &lt;style&gt;\n",
              "                #map_40bbf3e89cff5cd07640b5916649506f {\n",
              "                    position: relative;\n",
              "                    width: 100.0%;\n",
              "                    height: 100.0%;\n",
              "                    left: 0.0%;\n",
              "                    top: 0.0%;\n",
              "                }\n",
              "                .leaflet-container { font-size: 1rem; }\n",
              "            &lt;/style&gt;\n",
              "        \n",
              "&lt;/head&gt;\n",
              "&lt;body&gt;\n",
              "    \n",
              "    \n",
              "            &lt;div class=&quot;folium-map&quot; id=&quot;map_40bbf3e89cff5cd07640b5916649506f&quot; &gt;&lt;/div&gt;\n",
              "        \n",
              "&lt;/body&gt;\n",
              "&lt;script&gt;\n",
              "    \n",
              "    \n",
              "            var map_40bbf3e89cff5cd07640b5916649506f = L.map(\n",
              "                &quot;map_40bbf3e89cff5cd07640b5916649506f&quot;,\n",
              "                {\n",
              "                    center: [39.937375, 48.46089583333334],\n",
              "                    crs: L.CRS.EPSG3857,\n",
              "                    zoom: 12,\n",
              "                    zoomControl: true,\n",
              "                    preferCanvas: false,\n",
              "                }\n",
              "            );\n",
              "\n",
              "            \n",
              "\n",
              "        \n",
              "    \n",
              "            var tile_layer_653062cd8be0b21dac6c2ad358ceddbc = L.tileLayer(\n",
              "                &quot;https://tile.openstreetmap.org/{z}/{x}/{y}.png&quot;,\n",
              "                {&quot;attribution&quot;: &quot;\\u0026copy; \\u003ca href=\\&quot;https://www.openstreetmap.org/copyright\\&quot;\\u003eOpenStreetMap\\u003c/a\\u003e contributors&quot;, &quot;detectRetina&quot;: false, &quot;maxNativeZoom&quot;: 19, &quot;maxZoom&quot;: 19, &quot;minZoom&quot;: 0, &quot;noWrap&quot;: false, &quot;opacity&quot;: 1, &quot;subdomains&quot;: &quot;abc&quot;, &quot;tms&quot;: false}\n",
              "            );\n",
              "        \n",
              "    \n",
              "            tile_layer_653062cd8be0b21dac6c2ad358ceddbc.addTo(map_40bbf3e89cff5cd07640b5916649506f);\n",
              "        \n",
              "    \n",
              "            var tile_layer_dcdecd6e78075a4a34854637eda085de = L.tileLayer(\n",
              "                &quot;https://earthengine.googleapis.com/v1/projects/warm-dynamics-433216-k3/maps/a5d9021ac5030a7b581c4ff78f3b01d4-420ed7ca540fae6083ad3ee171a82b59/tiles/{z}/{x}/{y}&quot;,\n",
              "                {&quot;attribution&quot;: &quot;Google Earth Engine&quot;, &quot;detectRetina&quot;: false, &quot;maxZoom&quot;: 18, &quot;minZoom&quot;: 0, &quot;noWrap&quot;: false, &quot;opacity&quot;: 1, &quot;subdomains&quot;: &quot;abc&quot;, &quot;tms&quot;: false}\n",
              "            );\n",
              "        \n",
              "    \n",
              "            tile_layer_dcdecd6e78075a4a34854637eda085de.addTo(map_40bbf3e89cff5cd07640b5916649506f);\n",
              "        \n",
              "    \n",
              "            var layer_control_4f38b0653a89303a301e86060c3b66bd_layers = {\n",
              "                base_layers : {\n",
              "                    &quot;openstreetmap&quot; : tile_layer_653062cd8be0b21dac6c2ad358ceddbc,\n",
              "                },\n",
              "                overlays :  {\n",
              "                    &quot;Combined Crop Mask&quot; : tile_layer_dcdecd6e78075a4a34854637eda085de,\n",
              "                },\n",
              "            };\n",
              "            let layer_control_4f38b0653a89303a301e86060c3b66bd = L.control.layers(\n",
              "                layer_control_4f38b0653a89303a301e86060c3b66bd_layers.base_layers,\n",
              "                layer_control_4f38b0653a89303a301e86060c3b66bd_layers.overlays,\n",
              "                {&quot;autoZIndex&quot;: true, &quot;collapsed&quot;: true, &quot;position&quot;: &quot;topright&quot;}\n",
              "            ).addTo(map_40bbf3e89cff5cd07640b5916649506f);\n",
              "\n",
              "        \n",
              "&lt;/script&gt;\n",
              "&lt;/html&gt;\" style=\"position:absolute;width:100%;height:100%;left:0;top:0;border:none !important;\" allowfullscreen webkitallowfullscreen mozallowfullscreen></iframe></div></div>"
            ]
          },
          "metadata": {}
        }
      ]
    },
    {
      "cell_type": "markdown",
      "source": [
        "- **Black:** Non-croplands (value 0)\n",
        "- **Orange:** Croplands: irrigation major (value 1)\n",
        "- **Brown:** Croplands: irrigation minor (value 2)\n",
        "- **Dark Green (#02a50f):** Croplands: rainfed (value 3)\n",
        "- **Green: Croplands:** rainfed, minor fragments (value 4)\n",
        "- **Yellow:** Croplands: rainfed, very minor fragments (value 5)"
      ],
      "metadata": {
        "id": "GuvQ4m5qBfS8"
      }
    }
  ]
}